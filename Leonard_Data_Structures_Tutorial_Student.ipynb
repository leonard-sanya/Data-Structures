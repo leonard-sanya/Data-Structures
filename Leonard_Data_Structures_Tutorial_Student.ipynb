{
  "nbformat": 4,
  "nbformat_minor": 0,
  "metadata": {
    "colab": {
      "provenance": []
    },
    "kernelspec": {
      "name": "python3",
      "display_name": "Python 3"
    },
    "language_info": {
      "name": "python"
    }
  },
  "cells": [
    {
      "cell_type": "markdown",
      "source": [
        "### Data structure"
      ],
      "metadata": {
        "id": "A_mDlw6sEB9e"
      }
    },
    {
      "cell_type": "markdown",
      "source": [
        "\n",
        "A data structure is a way of organizing and storing data in our machine so that it can be accessed and used efficiently. It refers to the logical or mathematical representation of data, as well as the implementation in a computer program.\n",
        "\n"
      ],
      "metadata": {
        "id": "xHfgbNRtYrYt"
      }
    },
    {
      "cell_type": "markdown",
      "source": [
        "Data structures can be classified into two broad categories:\n",
        "\n",
        "\n",
        "*   **Linear Data Structure**: A data structure in which data elements are arranged sequentially or linearly, where each element is attached to its previous and next adjacent elements, is called a linear data structure. Examples are array, stack, queue, etc.\n",
        "*   **Non-linear Data Structure**: Data structures where data elements are not placed sequentially or linearly are called non-linear data structures. Examples are trees and graphs.\n",
        "\n",
        "\n",
        "\n"
      ],
      "metadata": {
        "id": "9egJAo-cYuad"
      }
    },
    {
      "cell_type": "markdown",
      "source": [
        "\n",
        "![](https://miro.medium.com/v2/resize:fit:1400/format:webp/1*mLRD8leEkOFY3A87akoaXQ.png)\n",
        "\n",
        "image credit:  https://python.plainenglish.io/understanding-python-data-structures-from-basics-to-advanced-7cf84212a373"
      ],
      "metadata": {
        "id": "JfDboB48aaKg"
      }
    },
    {
      "cell_type": "markdown",
      "source": [
        "The non-primitive data structures can also be classified based on whether they are built-in or user-defined.\n",
        "\n",
        "1. Python offers implicit support for built in structures that include List, Tuple, Set and Dictionary.\n",
        "2. Users can also create their own data structures (like Stack, Tree, Queue, etc.) enabling them to have a full control over their functionality."
      ],
      "metadata": {
        "id": "BnoFGYTuc5Eg"
      }
    },
    {
      "cell_type": "markdown",
      "source": [
        "#### Need For Data Structure"
      ],
      "metadata": {
        "id": "0caGIsUOePz2"
      }
    },
    {
      "cell_type": "markdown",
      "source": [
        "As the amount of data continues to grow, the applications become more and more complex, hence it becomes difficult for the programmer to manage this data as well as the software.\n",
        "\n",
        "Specifically, in machine learning algorithms which often require large volumes of data to effectively learn patterns, and relationships, and make accurate predictions or decisions.\n",
        "\n",
        "Typically, at any time, an application may face the following hurdles:\n",
        "*   **Searching Large amounts of Data**: Given the extensive processing and storage of data, our program may need to search specific data at any point. If the data isn't appropriately organized, retrieving the required information could be time-consuming due to its sheer volume. By employing efficient data structures for storage and organization, data retrieval becomes faster and more streamlined.\n",
        "*   **Speed of Processing**: Disorganized data may result in slow processing speed as a lot of time will be wasted in retrieving and accessing data.we organize data helps to stay concentrated on the processing of data to produce the desired output.\n",
        "*   **Multiple Simultaneous Requests**: Many applications these days need to make a simultaneous request to data. These requests should be processed efficiently for applications to run smoothly. Using a good data structure helps to minimize the concurrent requests turnaround time.\n",
        "\n",
        "References: https://www.softwaretestinghelp.com/data-structures-in-cpp/\n"
      ],
      "metadata": {
        "id": "P_TtXzFzfeDM"
      }
    },
    {
      "cell_type": "markdown",
      "source": [
        "While libraries like Pandas and NumPy provide powerful tools for data manipulation and analysis in machine learning, having a solid understanding of data structures remains essential for:\n",
        "\n",
        "*   Well understand how those libraries works and how the have been built\n",
        "*   Custom Implementations\n",
        "*   Optimization\n",
        "*   Algorithm Design\n",
        "*   Problem-Solving Skills\n",
        "*   etc.\n",
        "\n",
        "\n"
      ],
      "metadata": {
        "id": "y3bQUvMwjwOM"
      }
    },
    {
      "cell_type": "markdown",
      "source": [
        "### Array, List, Tuples, Set, Dictionnary"
      ],
      "metadata": {
        "id": "bA4OxyqwDoWt"
      }
    },
    {
      "cell_type": "markdown",
      "source": [
        "##### Exercise\n",
        "\n",
        "Declare a destroy_elements function that accepts two lists.\n",
        "It should return a list of all elements from the first list that are NOT contained in the second list.\n",
        " Use list comprehension in your solution.\n",
        "\n",
        " EXAMPLES\n",
        "* destroy_elements([1, 2, 3], [1, 2])      => [3]\n",
        "* destroy_elements([1, 2, 3], [1, 2, 3])   => []\n",
        "* destroy_elements([1, 2, 3], [4, 5])      => [1, 2, 3]"
      ],
      "metadata": {
        "id": "RkKnSY9FnBkE"
      }
    },
    {
      "cell_type": "code",
      "source": [
        "def destroy_elements(a,b):\n",
        "  a = list(a)\n",
        "  b = list(b)\n",
        "\n",
        "  x =[]\n",
        "  for item in a:\n",
        "    if item not in b:\n",
        "      x.append(item)\n",
        "    else:\n",
        "      pass\n",
        "  return x\n",
        "\n",
        "print(f\" \\n\\n {destroy_elements([1,2,3],[1,2])}\")\n",
        "print(f\" \\n\\n {destroy_elements([1,2,3],[1,2,3])}\")\n",
        "print(f\" \\n\\n {destroy_elements([1,2,3],[4,5])}\")"
      ],
      "metadata": {
        "id": "YwROkv2wnCvn",
        "colab": {
          "base_uri": "https://localhost:8080/"
        },
        "outputId": "36c05e42-2a38-4fd1-8bf8-ebc818bb2318"
      },
      "execution_count": null,
      "outputs": [
        {
          "output_type": "stream",
          "name": "stdout",
          "text": [
            " \n",
            "\n",
            " [3]\n",
            " \n",
            "\n",
            " []\n",
            " \n",
            "\n",
            " [1, 2, 3]\n"
          ]
        }
      ]
    },
    {
      "cell_type": "markdown",
      "source": [
        "##### Exercise\n",
        "\n",
        "Given an array nums of size n, return the majority element.\n",
        "\n",
        "The majority element is the element that appears more than ⌊n / 2⌋ times. You may assume that the majority element always exists in the array.\n",
        "\n",
        "Input: nums = [2,2,1,1,1,2,2] <br>\n",
        "Output: 2"
      ],
      "metadata": {
        "id": "ZvuUpvKNoFZi"
      }
    },
    {
      "cell_type": "code",
      "source": [
        "def Majority(a):\n",
        "  unique_val = set(a)\n",
        "  for i in unique_val :\n",
        "    count = 0\n",
        "    for j in range(len(a)):\n",
        "      if a[j]==i:\n",
        "        count +=1\n",
        "      if count > len(a)/2:\n",
        "        return i\n",
        "\n",
        "\n",
        "Majority([2,2,1,1,1,2,2])"
      ],
      "metadata": {
        "id": "g4-AqcKFoFzl",
        "colab": {
          "base_uri": "https://localhost:8080/"
        },
        "outputId": "b4d0a541-819f-4b69-ce69-0a3cf5e36a67"
      },
      "execution_count": null,
      "outputs": [
        {
          "output_type": "execute_result",
          "data": {
            "text/plain": [
              "2"
            ]
          },
          "metadata": {},
          "execution_count": 8
        }
      ]
    },
    {
      "cell_type": "markdown",
      "source": [
        "##### Exercise\n",
        "\n",
        "Suppose an array of length `n` sorted in ascending order is rotated between `1 and n times`. For example, the array `nums = [0,1,2,4,5,6,7]` might become:\n",
        "\n",
        "\n",
        "*   `[4,5,6,7,0,1,2] if it was rotated 4 times.`\n",
        "*   `[0,1,2,4,5,6,7] if it was rotated 7 times.`\n",
        "\n",
        "\n",
        "\n",
        "Notice that rotating an array `[a[0], a[1], a[2], ..., a[n-1]]` 1 time results in the array `[a[n-1], a[0], a[1], a[2], ..., a[n-2]]`.\n",
        "\n",
        "Given the sorted rotated array nums of unique elements, return the minimum element of this array.\n",
        "\n",
        "Example:\n",
        "\n",
        "Input: nums = [3,4,5,1,2]   Output: 1\n",
        "\n",
        "Explanation: The original array was [1,2,3,4,5] rotated 3 times.\n",
        "\n",
        "Input: nums = [4,5,6,7,0,1,2]  Output: 0\n",
        "\n",
        "Explanation: The original array was [0,1,2,4,5,6,7] and it was rotated 4 times.\n",
        "\n",
        "Input: nums = [11,13,15,17]  Output: 11\n",
        "\n",
        "Explanation: The original array was [11,13,15,17] and it was rotated 4 times."
      ],
      "metadata": {
        "id": "gEHfH4d-mVvQ"
      }
    },
    {
      "cell_type": "code",
      "source": [
        "import numpy as np\n"
      ],
      "metadata": {
        "id": "IAfF4Sq5kGQb"
      },
      "execution_count": null,
      "outputs": []
    },
    {
      "cell_type": "code",
      "source": [
        "def sortt(a):\n",
        "  min_elt = np.min(a)\n",
        "  b = np.copy(a)\n",
        "  for i in range(len(b)):\n",
        "    for j in range(len(b)):\n",
        "      if b[i]< b[j]:\n",
        "        b[i],b[j] = b[j],b[i]\n",
        "\n",
        "  if a.index(np.min(a)) == 0:\n",
        "    print(f\"{ min_elt} The original array was {b} and it was rotated {len(a)} times.\")\n",
        "  else:\n",
        "    print(f' { min_elt} The original array was {b} and it was rotated {a.index(np.min(a))} times.')\n",
        "\n",
        "  return \"\"\n",
        "print(sortt([3,4,5,1,2]))\n",
        "print(sortt([4,5,6,7,0,1,2]))\n",
        "print(sortt([11,13,15,17]))"
      ],
      "metadata": {
        "colab": {
          "base_uri": "https://localhost:8080/"
        },
        "id": "zts0_GLFXkJU",
        "outputId": "04c5a8d5-26ae-4803-9b3d-4259ba1b32ba"
      },
      "execution_count": null,
      "outputs": [
        {
          "output_type": "stream",
          "name": "stdout",
          "text": [
            " 1 The original array was [1 2 3 4 5] and it was rotated 3 times.\n",
            "\n",
            " 0 The original array was [0 1 2 4 5 6 7] and it was rotated 4 times.\n",
            "\n",
            "11 The original array was [11 13 15 17] and it was rotated 4 times.\n",
            "\n"
          ]
        }
      ]
    },
    {
      "cell_type": "markdown",
      "source": [
        "##### Exercise\n",
        "\n",
        "Given a list l, reverse l.\n",
        "\n",
        "Example= [1,2,3,4,5] ==> [5,4,3,2,1]. In this case the operation has to be done in-place. Do not allow new memory space</b>\n",
        "\n",
        "DON't USE THE PYTHON INDEXING [::-1]"
      ],
      "metadata": {
        "id": "9YhQql2NoNoo"
      }
    },
    {
      "cell_type": "code",
      "source": [
        "def reversed(a):\n",
        "  n = len(a)\n",
        "  reverse =[]\n",
        "  while n!=0:\n",
        "    reverse.append(a[n-1])\n",
        "    n-=1\n",
        "  return reverse\n",
        "\n",
        "reversed([1,2,3,4,5])"
      ],
      "metadata": {
        "id": "JJKnBZphoOCz",
        "colab": {
          "base_uri": "https://localhost:8080/"
        },
        "outputId": "0d99d15e-4606-47ce-91ea-088bcc7eaf7f"
      },
      "execution_count": null,
      "outputs": [
        {
          "output_type": "execute_result",
          "data": {
            "text/plain": [
              "[5, 4, 3, 2, 1]"
            ]
          },
          "metadata": {},
          "execution_count": 11
        }
      ]
    },
    {
      "cell_type": "code",
      "source": [
        "def reversed2(a):\n",
        "    x = 0\n",
        "    y = len(a) - 1\n",
        "\n",
        "    while x < y:\n",
        "        a[x], a[y] = a[y], a[x]\n",
        "        x += 1\n",
        "        y -= 1\n",
        "    return a\n",
        "\n",
        "reversed2([1, 2, 3, 4, 5])"
      ],
      "metadata": {
        "colab": {
          "base_uri": "https://localhost:8080/"
        },
        "id": "nGv83fTkQ5As",
        "outputId": "85ee7e7d-c3f6-4086-b224-f2886d711843"
      },
      "execution_count": null,
      "outputs": [
        {
          "output_type": "execute_result",
          "data": {
            "text/plain": [
              "[5, 4, 3, 2, 1]"
            ]
          },
          "metadata": {},
          "execution_count": 12
        }
      ]
    },
    {
      "cell_type": "markdown",
      "source": [
        "##### Exercise\n",
        "\n",
        "Given an array nums containing n distinct numbers in the range [0, n], return the only number in the range that is missing from the array.\n",
        "\n",
        "\n",
        "\n",
        "Example 1:\n",
        "\n",
        "Input: nums = [3,0,1]\n",
        "Output: 2\n",
        "Explanation: n = 3 since there are 3 numbers, so all numbers are in the range [0,3]. 2 is the missing number in the range since it does not appear in nums.\n",
        "Example 2:\n",
        "\n",
        "Input: nums = [0,1]\n",
        "Output: 2\n",
        "Explanation: n = 2 since there are 2 numbers, so all numbers are in the range [0,2]. 2 is the missing number in the range since it does not appear in nums.\n",
        "Example 3:\n",
        "\n",
        "Input: nums = [9,6,4,2,3,5,7,0,1]\n",
        "Output: 8\n",
        "Explanation: n = 9 since there are 9 numbers, so all numbers are in the range [0,9]. 8 is the missing number in the range since it does not appear in nums.\n"
      ],
      "metadata": {
        "id": "sIOcVka_pKB5"
      }
    },
    {
      "cell_type": "code",
      "source": [
        "def missing_num(n):\n",
        "  nums = []\n",
        "  x = max(n) if max(n) > len(n) else len(n)+1\n",
        "  for i in range(len(n)+1):\n",
        "    nums.append(i)\n",
        "  for item in nums:\n",
        "    if item not in n:\n",
        "      missing1 = item\n",
        "      return missing1\n",
        "\n",
        "print(f\"{missing_num([3,0,1])}\")\n",
        "print(f\"{missing_num([0,1])}\")\n",
        "print(f\"{missing_num([9,6,4,2,3,5,7,0,1])}\")"
      ],
      "metadata": {
        "id": "IbNFcDWqpJML",
        "colab": {
          "base_uri": "https://localhost:8080/"
        },
        "outputId": "ffa24b8b-ec07-4567-d377-bf95804a3e76"
      },
      "execution_count": null,
      "outputs": [
        {
          "output_type": "stream",
          "name": "stdout",
          "text": [
            "2\n",
            "2\n",
            "8\n"
          ]
        }
      ]
    },
    {
      "cell_type": "markdown",
      "source": [
        "##### Exercise\n",
        "\n",
        "Given a string s, check whether s is a palindrome. s is the palindrome if s is equal to its reverse.Using:\n",
        "- slicing in python\n",
        "\n",
        "example : s='aba' is a palindrom\n",
        "s='abaa' isnot a palindrom"
      ],
      "metadata": {
        "id": "jWkw5jP5o4ZA"
      }
    },
    {
      "cell_type": "code",
      "source": [
        "def palindrom(s):\n",
        "  reversed = []\n",
        "  n = len(s)\n",
        "  while n!=0:\n",
        "    reversed.append(s[n-1])\n",
        "    n-=1\n",
        "  if \"\".join(reversed) == s:\n",
        "    return \"palindrom\"\n",
        "  else:\n",
        "    return \"is not palindrom\"\n",
        "\n",
        "print(palindrom(\"aba\"))\n",
        "print(palindrom(\"abaa\"))"
      ],
      "metadata": {
        "id": "BjWQX-xGpKgf",
        "colab": {
          "base_uri": "https://localhost:8080/"
        },
        "outputId": "ac088717-7ebc-414d-ff51-f120fdaa7ba6"
      },
      "execution_count": null,
      "outputs": [
        {
          "output_type": "stream",
          "name": "stdout",
          "text": [
            "palindrom\n",
            "is not palindrom\n"
          ]
        }
      ]
    },
    {
      "cell_type": "markdown",
      "source": [
        "##### Exercise\n",
        "\n",
        "Given a list, dictionary, and a Key K, print the value of K from the dictionary if the key is present in both, the list and the dictionary.\n",
        "\n",
        "Use a try-except block to handle the KeyError that may occur if K is not present in test_dict.\n",
        "\n",
        "\n",
        "Input : `test_list = [\"Gfg\", \"is\", \"Good\", \"for\", \"Geeks\"]`,\n",
        "                `test_dict = {\"Gfg\" : 5, \"Best\" : 6}, K = \"Gfg\"`\n",
        "\n",
        "Output : 5\n",
        "\n",
        "Explanation : \"Gfg\" is present in list and has value 5 in dictionary.\n",
        "\n",
        "\n",
        "Input : `test_list = [\"Good\", \"for\", \"Geeks\"]`,\n",
        "                `test_dict = {\"Gfg\" : 5, \"Best\" : 6}` `, K = \"Gfg\"`\n",
        "\n",
        "Output : None\n",
        "\n",
        "Explanation : \"Gfg\" not present in List.\n"
      ],
      "metadata": {
        "id": "VYb2zHDorcb6"
      }
    },
    {
      "cell_type": "code",
      "source": [
        "def list_dic(a,b,item):\n",
        "  try:\n",
        "    for item in a:\n",
        "      if item in b.keys():\n",
        "        return b[item]\n",
        "  except KeyError:\n",
        "    print(\"KeyError: Key 'K' not found in the dictionary.\")\n",
        "    return None\n",
        "\n",
        "print(list_dic([\"Gfg\", \"is\", \"Good\", \"for\", \"Geeks\"],{\"Gfg\" : 5, \"Best\" : 6},\"Gfg\"))\n",
        "\n",
        "print(list_dic([\"Good\", \"for\", \"Geeks\"],{\"Gfg\" : 5, \"Best\" : 6},\"Gfg\"))"
      ],
      "metadata": {
        "id": "BIN4m_igrdTJ",
        "colab": {
          "base_uri": "https://localhost:8080/"
        },
        "outputId": "20b28961-fa8f-48f8-e47d-539a248704df"
      },
      "execution_count": null,
      "outputs": [
        {
          "output_type": "stream",
          "name": "stdout",
          "text": [
            "5\n",
            "None\n"
          ]
        }
      ]
    },
    {
      "cell_type": "markdown",
      "source": [
        "### Stack"
      ],
      "metadata": {
        "id": "4lViF_B_DwAG"
      }
    },
    {
      "cell_type": "markdown",
      "source": [
        "Stack is a linear data structure that follows the principle of LIFO (Last In First Out) to store data.\n",
        "\n",
        "![](https://media.geeksforgeeks.org/wp-content/uploads/20220714004311/Stack-660x566.png)\n",
        "\n",
        "image credit:  https://media.geeksforgeeks.org/wp-content/uploads/20220714004311/Stack-660x566.png"
      ],
      "metadata": {
        "id": "tHaXpuuBKYuS"
      }
    },
    {
      "cell_type": "markdown",
      "source": [
        "#### Basic operations on stack"
      ],
      "metadata": {
        "id": "kq-r8WbqKfoq"
      }
    },
    {
      "cell_type": "markdown",
      "source": [
        "Some basic operations allow us to perform different actions on a stack.\n",
        "\n",
        "*   push() to insert an element into the stack\n",
        "*   pop() to remove an element from the stack\n",
        "*   top() Returns the top element of the stack.\n",
        "*   isEmpty() returns true if the stack is empty else false.\n",
        "*   size() returns the size of the stack.\n",
        "\n",
        "In python, stacks can be implented using lists"
      ],
      "metadata": {
        "id": "_HUfpnNIKpAk"
      }
    },
    {
      "cell_type": "code",
      "source": [
        "import numpy as np"
      ],
      "metadata": {
        "id": "hrOjgpbOJhcA"
      },
      "execution_count": null,
      "outputs": []
    },
    {
      "cell_type": "code",
      "source": [
        "class Stack:\n",
        "  def __init__(self, stack = None):\n",
        "    self.stack = stack or []\n",
        "\n",
        "  def push(self,x):\n",
        "    return self.stack.append(x)\n",
        "\n",
        "  def pop(self):\n",
        "    x = self.stack[-1]\n",
        "    self.stack = self.stack[:-1]\n",
        "    return x\n",
        "\n",
        "  def top(self):\n",
        "    return self.stack[-1]\n",
        "\n",
        "  def isEmpty(self):\n",
        "    return \"Stack is empty\" if len(self.stack)==0 else \"Stack is not empty\"\n",
        "\n",
        "  def display_stack(self):\n",
        "    print(self.stack)\n",
        "\n",
        "  def size(self):\n",
        "    return len(self.stack)"
      ],
      "metadata": {
        "id": "SR7NeINDDx8c"
      },
      "execution_count": null,
      "outputs": []
    },
    {
      "cell_type": "code",
      "source": [
        "my_stack = Stack()\n",
        "my_stack.push(4)\n",
        "my_stack.push(5)\n",
        "my_stack.push(3)\n",
        "my_stack.push(7)\n",
        "my_stack.display_stack()\n",
        "print(my_stack.pop())\n",
        "my_stack.display_stack()\n",
        "print(my_stack.top())\n",
        "my_stack.display_stack()"
      ],
      "metadata": {
        "colab": {
          "base_uri": "https://localhost:8080/"
        },
        "id": "sTljA8TztOOx",
        "outputId": "0523281e-5221-4355-ae16-18e5fc7b59fe"
      },
      "execution_count": null,
      "outputs": [
        {
          "output_type": "stream",
          "name": "stdout",
          "text": [
            "[4, 5, 3, 7]\n",
            "7\n",
            "[4, 5, 3]\n",
            "3\n",
            "[4, 5, 3]\n"
          ]
        }
      ]
    },
    {
      "cell_type": "markdown",
      "source": [
        "#### Some applications"
      ],
      "metadata": {
        "id": "viddoJYUNmZ4"
      }
    },
    {
      "cell_type": "markdown",
      "source": [
        "##### Exercise\n",
        "\n",
        "\n",
        "Given a string s, write a function reverseString that returns the reversed string of s using stack\n",
        "\n",
        "Input: abc\n",
        "\n",
        "output: cba\n",
        "\n",
        "Input: abc def\n",
        "\n",
        "\n",
        "output: fed cba"
      ],
      "metadata": {
        "id": "OIh0o7uk_84V"
      }
    },
    {
      "cell_type": "code",
      "source": [
        "def reverse(my_string):\n",
        "  for i in range(len(my_string)):\n",
        "    my_stack.push(my_string[i])\n",
        "\n",
        "  results = [my_stack.pop() for _ in range(len(my_string))]\n",
        "  print(\"\".join(results))\n"
      ],
      "metadata": {
        "id": "Y6Ph0tZMNhDw"
      },
      "execution_count": null,
      "outputs": []
    },
    {
      "cell_type": "code",
      "source": [
        "reverse(\"abc def\")"
      ],
      "metadata": {
        "colab": {
          "base_uri": "https://localhost:8080/"
        },
        "id": "jVGVrv_BRcQY",
        "outputId": "beb95c56-5352-407c-b696-48985701fd75"
      },
      "execution_count": null,
      "outputs": [
        {
          "output_type": "stream",
          "name": "stdout",
          "text": [
            "fed cba\n"
          ]
        }
      ]
    },
    {
      "cell_type": "markdown",
      "source": [
        "##### Exercise\n",
        "\n",
        "Check for Balanced Brackets in an expression (well-formedness)\n",
        "\n",
        "\n",
        "Given an expression string exp, write a program to examine whether the pairs and the orders of “{“, “}”, “(“, “)”, “[“, “]” are correct in the given expression.\n",
        "\n",
        "Example:\n",
        "\n",
        "Input: exp = “[()]{}{[()()]()}”\n",
        "Output: Balanced\n",
        "Explanation: all the brackets are well-formed\n",
        "\n",
        "Input: exp = “[(])”\n",
        "Output: Not Balanced\n",
        "Explanation: 1 and 4 brackets are not balanced because\n",
        "there is a closing ‘]’ before the closing ‘(‘\n",
        "\n",
        "\n",
        "\n"
      ],
      "metadata": {
        "id": "MbU9O7SwRHno"
      }
    },
    {
      "cell_type": "code",
      "source": [
        "my_stack= Stack()\n",
        "def are_brackets_balanced(s):\n",
        "  brackets = {\"{\":\"}\",\"(\":\")\",\"[\":\"]\"}\n",
        "  for item in list(s):\n",
        "    if item in brackets.keys():\n",
        "      my_stack.push(item)\n",
        "    else:\n",
        "      if item == brackets[my_stack.top()]:\n",
        "        my_stack.pop()\n",
        "      else:\n",
        "        return \"Not Balanced\"\n",
        "  if my_stack.size()==0:\n",
        "    print(\"Balanced, all the brackets are well-formed\")\n",
        "  else:\n",
        "    return \"Not Blanced\""
      ],
      "metadata": {
        "id": "oK8I-ZXHNhSz"
      },
      "execution_count": null,
      "outputs": []
    },
    {
      "cell_type": "code",
      "source": [
        "print(are_brackets_balanced(\"[()]{}{()()}\"))\n",
        "print(are_brackets_balanced(\"[(])\"))"
      ],
      "metadata": {
        "colab": {
          "base_uri": "https://localhost:8080/"
        },
        "id": "bBOBm-6Ueurz",
        "outputId": "3a510bae-7da2-461c-800d-690173ca3b13"
      },
      "execution_count": null,
      "outputs": [
        {
          "output_type": "stream",
          "name": "stdout",
          "text": [
            "Balanced, all the brackets are well-formed\n",
            "None\n",
            "Not Balanced\n"
          ]
        }
      ]
    },
    {
      "cell_type": "markdown",
      "source": [
        "### Queue"
      ],
      "metadata": {
        "id": "8aqpCVDeDybi"
      }
    },
    {
      "cell_type": "markdown",
      "source": [
        "Same as Stack, Queue is also a linear data structure. However Queue store data in a FIFO(FIrst In First Out) manner\n",
        "\n",
        "![](https://media.geeksforgeeks.org/wp-content/cdn-uploads/gq/2014/02/Queue.png)\n",
        "\n",
        "\n",
        "image credit: https://www.geeksforgeeks.org/python-data-structures-and-algorithms/\n",
        "\n"
      ],
      "metadata": {
        "id": "yQW3eR92VUg5"
      }
    },
    {
      "cell_type": "markdown",
      "source": [
        "#### Basics operations of Queue\n",
        "\n",
        "\n",
        "*   Enqueue() Adds (or stores) an element to the end of the queue.\n",
        "*   Dequeue() Removal of elements from the queue.\n",
        "*   Peek() or front() Acquires the data element available at the front node of the queue without deleting it.\n",
        "*   rear() This operation returns the element at the rear end without removing it.\n",
        "*   isFull() Validates if the queue is full.\n",
        "*   isNull() Checks if the queue is empty."
      ],
      "metadata": {
        "id": "Ge-8GbXARNK0"
      }
    },
    {
      "cell_type": "code",
      "source": [
        "import numpy as np"
      ],
      "metadata": {
        "id": "qPrzqOXX3JCK"
      },
      "execution_count": null,
      "outputs": []
    },
    {
      "cell_type": "code",
      "source": [
        "class Queue:\n",
        "  def __init__(self,queue =[]):\n",
        "    self.queue = queue\n",
        "\n",
        "  def enqueue(self,x):\n",
        "    return self.queue.append(x)\n",
        "\n",
        "  def dequeue(self):\n",
        "    self.queue.remove(self.queue[0])\n",
        "    return self.queue\n",
        "\n",
        "  def peek(self):\n",
        "    return self.queue[0]\n",
        "\n",
        "  def rear(self):\n",
        "    return self.queue[-1]\n",
        "\n",
        "  def display_queue(self):\n",
        "    return self.queue\n",
        "\n",
        "  def is_empty(self):\n",
        "    return \"Queue is empty\" if len(self.queue)==0 else \"Queue is not empty\"\n",
        "\n",
        "  def dequeue_asc(self):\n",
        "    self.queue.remove(self.queue[np.argmin(self.queue)])\n",
        "    return self.queue\n",
        "\n"
      ],
      "metadata": {
        "id": "_u2lE_feDzwt"
      },
      "execution_count": null,
      "outputs": []
    },
    {
      "cell_type": "code",
      "source": [
        "my_queue = Queue()#max_size=5)\n",
        "my_queue.enqueue(1)\n",
        "my_queue.enqueue(2)\n",
        "my_queue.enqueue(3)\n",
        "my_queue.enqueue(4)\n",
        "my_queue.enqueue(5)\n",
        "my_queue.enqueue(6)\n",
        "print(my_queue.display_queue())\n",
        "print(my_queue.dequeue())\n",
        "print(my_queue.peek())\n",
        "print(my_queue.rear())\n",
        "#print(my_queue.is_full())\n",
        "print(my_queue.is_empty())\n",
        "my_queue.dequeue_asc()"
      ],
      "metadata": {
        "colab": {
          "base_uri": "https://localhost:8080/"
        },
        "id": "6aIIn6vXrVdG",
        "outputId": "d1ba78b7-4a81-4272-ad54-1cfd80c1560f"
      },
      "execution_count": null,
      "outputs": [
        {
          "output_type": "stream",
          "name": "stdout",
          "text": [
            "[1, 2, 3, 4, 5, 6]\n",
            "[2, 3, 4, 5, 6]\n",
            "2\n",
            "6\n",
            "Queue is not empty\n"
          ]
        },
        {
          "output_type": "execute_result",
          "data": {
            "text/plain": [
              "[3, 4, 5, 6]"
            ]
          },
          "metadata": {},
          "execution_count": 40
        }
      ]
    },
    {
      "cell_type": "markdown",
      "source": [
        "Queues and Stacks have  two conditions that need to be checked:\n",
        "\n",
        "*  overflow → insertion into a queue or stack that is full\n",
        "*   underflow → deletion from an empty queue or stack"
      ],
      "metadata": {
        "id": "6_aPGsSQaznf"
      }
    },
    {
      "cell_type": "markdown",
      "source": [
        "#### Some applications: Priority Queue"
      ],
      "metadata": {
        "id": "158eDe1eO6Ww"
      }
    },
    {
      "cell_type": "markdown",
      "source": [
        "`**A priority queue**` is a special type of queue in which each element is associated with a priority and is served according to its priority. There are two types of Priority Queues. They are:\n",
        "\n",
        "\n",
        "\n",
        "*   Ascending Priority Queue: Element can be inserted arbitrarily but only smallest element can be removed.\n",
        "*   Descending priority Queue: Element can be inserted arbitrarily but only the largest element can be removed first from the given Queue.\n"
      ],
      "metadata": {
        "id": "e1bzOMF5z9st"
      }
    },
    {
      "cell_type": "markdown",
      "source": [
        "##### Exercise\n",
        "\n",
        "Rewrite the function dequeue for ascending priority; You can use try/catch block by raising an IndexError when the queue is empty."
      ],
      "metadata": {
        "id": "3yVKigCV0kG0"
      }
    },
    {
      "cell_type": "code",
      "source": [
        "import numpy as np"
      ],
      "metadata": {
        "id": "_I8sT9dovtIk"
      },
      "execution_count": null,
      "outputs": []
    },
    {
      "cell_type": "code",
      "source": [
        "def dequeue_asc(self):\n",
        "  self.queue.remove(self.queue[np.argmin(self.queue)])\n",
        "  return self.queue\n"
      ],
      "metadata": {
        "id": "ShS62ahCPAQb"
      },
      "execution_count": null,
      "outputs": []
    },
    {
      "cell_type": "markdown",
      "source": [
        "### Linked List"
      ],
      "metadata": {
        "id": "zde5OxGgDsdY"
      }
    },
    {
      "cell_type": "markdown",
      "source": [
        "A linked list is a linear data structure that includes a series of connected nodes that are not stored at contiguous memory location.\n",
        "\n",
        "It is represented by a pointer to the first node of the linked list. The first node is called the **head**. If the linked list is empty, then the value of the head is **NULL**. Each node in a list consists of at least two parts:\n",
        "\n",
        "* Data\n",
        "* Pointer (Or Reference) to the next node\n",
        "\n",
        "![](https://media.geeksforgeeks.org/wp-content/cdn-uploads/gq/2013/03/Linkedlist.png)\n",
        "\n",
        "\n",
        "https://realpython.com/linked-lists-python/"
      ],
      "metadata": {
        "id": "zvyd4mVZPJbe"
      }
    },
    {
      "cell_type": "markdown",
      "source": [
        "#### Basic operations\n",
        "\n",
        "\n",
        "\n",
        "*   Insert: we can insert at the Beginning, Insert at the End, Insert at a Specific Position\n",
        "*   Delete: we can delete from the Beginning, from the End, at a Specific Position\n",
        "*   Display: disply by traversing the linked list from the head to the end, visiting each node in turn.\n",
        "*   Search: look for a node with a specific value or property.\n",
        "*   Get Length: count the number of nodes.\n",
        "*   Access: Access data in a specific node by traversing the list or directly indexing if the list supports it.\n",
        "*   Update: update the data in a specific node by traversing the list to find it and modifying its data.\n",
        "*   Concatenate: Concatenate two linked lists by making the last node of the first list point to the head of the second list.\n",
        "*   Reverse: Reverse the order of nodes in the linked list.\n",
        "*   Sort: Sort the linked list by rearranging nodes according to a specific criterion, such as value or property.\n",
        "\n"
      ],
      "metadata": {
        "id": "IXOU8UvrRWbx"
      }
    },
    {
      "cell_type": "code",
      "source": [
        "class Node:\n",
        "    def __init__(self, data):\n",
        "        self.data = data\n",
        "        self.next = None\n",
        "\n",
        "class LinkedList:\n",
        "\n",
        "\n",
        "    def __init__(self):\n",
        "        self.head = None\n",
        "\n",
        "    def insertAtBeginning(self, item):\n",
        "      if self.head ==None:\n",
        "        self.head = Node(item)\n",
        "      else:\n",
        "        new_node = Node(item)\n",
        "        new_node.next =self.head\n",
        "        self.head = new_node\n",
        "      return self.head\n",
        "\n",
        "    def insertAfter(self, item, index):\n",
        "      if self.head ==None:\n",
        "        self.head = Node(item)\n",
        "      else:\n",
        "        count_nodes=0\n",
        "        index_node = self.head\n",
        "        while index != count_nodes:\n",
        "          index_node = index_node.next\n",
        "          count_nodes += 1\n",
        "\n",
        "        new_node = Node(item)\n",
        "        new_node.next = index_node.next\n",
        "        index_node.next = new_node\n",
        "\n",
        "    def insertAtEnd(self, item):\n",
        "      if self.head ==0:\n",
        "        self.head = Node(item)\n",
        "      else:\n",
        "        last_node = self.head\n",
        "        while last_node.next is not None:\n",
        "          last_node = last_node.next\n",
        "        new_node = Node(item)\n",
        "        last_node.next =new_node\n",
        "      return last_node\n",
        "\n",
        "    def deleteItem(self, item):\n",
        "      if self.head ==None:\n",
        "        print(\"Linked list is Empty\")\n",
        "      else:\n",
        "        item_node = self.head\n",
        "        while item_node.data != item:\n",
        "          item_node = item_node.next\n",
        "        prev_node = item_node\n",
        "        prev_node.next = prev_node.next.next\n",
        "\n",
        "\n",
        "    def display(self):\n",
        "      last_node = self.head\n",
        "      linklist=[]\n",
        "      while last_node is not None:\n",
        "        linklist.append(f\"{last_node.data} ->\")\n",
        "        last_node = last_node.next\n",
        "      print(*linklist,end=\"\")\n",
        "\n",
        "    def search(self, item):\n",
        "        if self.head ==None:\n",
        "          print(\"Linked list is Empty\")\n",
        "        else:\n",
        "          elt = self.head\n",
        "          idx = 0\n",
        "          size = 1\n",
        "          while  elt is not None and item != elt.data:\n",
        "            elt =elt.next\n",
        "            idx +=1\n",
        "            size +=1\n",
        "          if elt is None:\n",
        "            print(f\"Item not in the linked list\")\n",
        "          else:\n",
        "            print(f\"Found the the item and is in index {idx}\")\n",
        "\n",
        "\n",
        "    def get_length(self):\n",
        "      if self.head ==None:\n",
        "        print(\"Linked list is Empty\")\n",
        "      else:\n",
        "        count_nodes = 0\n",
        "        index_node =  self.head\n",
        "        while index_node != None:\n",
        "          index_node = index_node.next\n",
        "          count_nodes += 1\n",
        "        print(\"\\n\",f\"Length of linklist is {count_nodes}\")\n",
        "        return\n",
        "\n",
        "    def access(self, index):\n",
        "      if self.head ==None:\n",
        "        print(\"Linked list is Empty\")\n",
        "      else:\n",
        "        count_nodes = 0\n",
        "        index_node = self.head\n",
        "        while index != count_nodes:\n",
        "          index_node = index_node.next\n",
        "          count_nodes += 1\n",
        "        print(index_node.data)\n",
        "\n",
        "\n",
        "    def update(self, index, new_data):\n",
        "        if self.head ==None:\n",
        "          print(\"Linked list is Empty\")\n",
        "        else:\n",
        "          count_nodes = 0\n",
        "          index_node = self.head\n",
        "          while index_node is not None and index != count_nodes:\n",
        "            index_node = index_node.next\n",
        "            count_nodes += 1\n",
        "          if index_node is None:\n",
        "            print(\"index out of range\")\n",
        "          else:\n",
        "            index_node.data = new_data\n",
        "\n",
        "    def reverse_list(self):\n",
        "      if self.head == None:\n",
        "        print(\"List is Empty\")\n",
        "      else:\n",
        "        prev_node = None\n",
        "        current_node = self.head\n",
        "        while current_node:\n",
        "          next = current_node.next\n",
        "          current_node.next = prev_node\n",
        "          prev_node = current_node\n",
        "          current_node = next\n",
        "        self.head = prev_node\n",
        "        return None\n",
        "\n",
        "    def ascending(self):\n",
        "      if self.head is None:\n",
        "          print(\"Linked list is Empty\")\n",
        "      else:\n",
        "          current_node = self.head\n",
        "          while current_node:\n",
        "              next_node = current_node.next\n",
        "              while next_node:\n",
        "                  if current_node.data > next_node.data:\n",
        "                      current_node.data, next_node.data = next_node.data, current_node.data\n",
        "                  next_node = next_node.next\n",
        "              current_node = current_node.next\n",
        "\n",
        "\n"
      ],
      "metadata": {
        "id": "p7TTDb25Dvc2"
      },
      "execution_count": null,
      "outputs": []
    },
    {
      "cell_type": "code",
      "source": [
        "linked_list = LinkedList()\n",
        "\n",
        "#display(linked_list)\n",
        "linked_list.insertAtBeginning(2)\n",
        "linked_list.insertAtEnd(4)\n",
        "\n",
        "linked_list.insertAtBeginning(5)\n",
        "linked_list.insertAtEnd(6)\n",
        "\n",
        "linked_list.insertAtEnd(7)\n",
        "linked_list.insertAfter(3,2)\n",
        "\n",
        "linked_list.insertAfter(7,1)\n",
        "linked_list.access(4)\n",
        "\n",
        "linked_list.deleteItem(2)\n",
        "linked_list.update(3, 10)\n",
        "\n",
        "linked_list.update(20, 1)\n",
        "linked_list.display()\n",
        "\n",
        "linked_list.get_length()\n",
        "linked_list.search(10)\n",
        "\n",
        "linked_list.ascending()\n",
        "linked_list.reverse_list()\n",
        "linked_list.display()"
      ],
      "metadata": {
        "colab": {
          "base_uri": "https://localhost:8080/"
        },
        "id": "I6Gj_uPwU_Qu",
        "outputId": "ed910d05-fe06-43a5-affd-ad71e0c319d2"
      },
      "execution_count": null,
      "outputs": [
        {
          "output_type": "stream",
          "name": "stdout",
          "text": [
            "3\n",
            "index out of range\n",
            "5 -> 2 -> 4 -> 10 -> 6 -> 7 ->\n",
            " Length of linklist is 6\n",
            "Found the the item and is in index 3\n"
          ]
        }
      ]
    },
    {
      "cell_type": "markdown",
      "source": [
        "#### Exercises"
      ],
      "metadata": {
        "id": "YkzwOpmgRfKx"
      }
    },
    {
      "cell_type": "markdown",
      "source": [
        "##### Exercises\n",
        "\n",
        "Write the function concatenate to concatenate two linked list\n",
        "\n",
        "Example:\n",
        "\n",
        "Input\n",
        "\n",
        "`first_list = 5 -> 2 -> 7 -> 10 -> `\n",
        "\n",
        "`second_list = 4 -> 6 -> 7 -> `\n",
        "\n",
        "output\n",
        "\n",
        "`reverse_list = 5 -> 2 -> 7 -> 10 -> 4 -> 6 -> 7 -> `"
      ],
      "metadata": {
        "id": "-dQV-U6360VE"
      }
    },
    {
      "cell_type": "code",
      "source": [
        "print(my_stack.display())\n",
        "print(my_queue.display())\n"
      ],
      "metadata": {
        "id": "ul_Hl0LkRlM4",
        "colab": {
          "base_uri": "https://localhost:8080/"
        },
        "outputId": "c765b212-45ae-4185-c983-d79dc329b815"
      },
      "execution_count": null,
      "outputs": [
        {
          "output_type": "stream",
          "name": "stdout",
          "text": [
            "1 -> 2 -> 3 -> 4 -> 5 ->None\n",
            "3 <--> 4 <--> 5 <--> 6 <--> 7 <-->None\n"
          ]
        }
      ]
    },
    {
      "cell_type": "code",
      "source": [
        "class Node:\n",
        "  def __init__(self,item):\n",
        "    self.item = item\n",
        "    self.next = None\n",
        "\n",
        "  def concat_at(last_node,item):\n",
        "    new_node = my_queue.peek()\n",
        "    last_node = my_stack.top()\n",
        "    last_node.next = new_node\n",
        "    last_node = new_node\n"
      ],
      "metadata": {
        "id": "oEwroP0MUrXI"
      },
      "execution_count": null,
      "outputs": []
    },
    {
      "cell_type": "markdown",
      "source": [
        "##### Exercise\n",
        "Write the function reverse to reverse a linked list\n",
        "\n",
        "Example:\n",
        "\n",
        "Input\n",
        "\n",
        "`my_list = 5 -> 2 -> 7 -> 10 -> 4 -> 6 -> 7 -> `\n",
        "\n",
        "output\n",
        "\n",
        "`reverse_list = 7 -> 6 -> 4 -> 10 -> 7 -> 2 -> 5 -> `"
      ],
      "metadata": {
        "id": "bg2xMdTb7DHN"
      }
    },
    {
      "cell_type": "code",
      "source": [
        "#Defined in the class as a method\n",
        "\n",
        "def reverse_list(self):\n",
        "  if self.head == None:\n",
        "    print(\"List is Empty\")\n",
        "  else:\n",
        "    prev_node = None\n",
        "    current_node = self.head\n",
        "    while current_node:\n",
        "      next = current_node.next\n",
        "      current_node.next = prev_node\n",
        "      prev_node = current_node\n",
        "      current_node = next\n",
        "    self.head = prev_node\n",
        "    return None\n",
        "\n"
      ],
      "metadata": {
        "id": "1JAi6FJZ7CdD",
        "colab": {
          "base_uri": "https://localhost:8080/"
        },
        "outputId": "da2c584e-1790-4c95-eab8-4eff218067cb"
      },
      "execution_count": null,
      "outputs": [
        {
          "output_type": "stream",
          "name": "stdout",
          "text": [
            "2 -> 4 -> 5 -> 6 -> 7 -> 10 ->"
          ]
        }
      ]
    },
    {
      "cell_type": "markdown",
      "source": [
        "##### Exercise\n",
        "\n",
        "Write a function to sort in ascending order elements on the linked list by removing all the duplicated elements.\n",
        "\n",
        "Example:\n",
        "\n",
        "Input\n",
        "\n",
        "`my_list = 5 -> 2 -> 7 -> 10 -> 4 -> 6 -> 7 -> `\n",
        "\n",
        "output\n",
        "\n",
        "`sorted_list = 2 -> 4 -> 5 -> 6 -> 7 -> 10 ->  `"
      ],
      "metadata": {
        "id": "xoNAqkNg7j6c"
      }
    },
    {
      "cell_type": "code",
      "source": [
        "#Defined in the class as a method\n",
        "\n",
        "def ascending(self):\n",
        "  if self.head is None:\n",
        "    print(\"Linked list is Empty\")\n",
        "  else:\n",
        "    current_node = self.head\n",
        "    while current_node:\n",
        "      next_node = current_node.next\n",
        "      while next_node:\n",
        "        if current_node.data > next_node.data:\n",
        "          current_node.data, next_node.data = next_node.data, current_node.data\n",
        "        next_node = next_node.next\n",
        "      current_node = current_node.next\n",
        "\n"
      ],
      "metadata": {
        "id": "Cqrc6g8KRksK"
      },
      "execution_count": null,
      "outputs": []
    },
    {
      "cell_type": "markdown",
      "source": [
        "##### Exercise\n",
        "\n",
        "Implement stack using Linked List"
      ],
      "metadata": {
        "id": "6GxcXU3985LM"
      }
    },
    {
      "cell_type": "code",
      "source": [
        "class Node:\n",
        "    def __init__(self, item):\n",
        "        self.item = item\n",
        "        self.next = None\n",
        "\n",
        "class Stack(Node):\n",
        "    def __init__(self):\n",
        "      self.head = None\n",
        "\n",
        "    def push(self, item):\n",
        "      new_node = Node(item)\n",
        "      new_node.next = self.head\n",
        "      self.head = new_node\n",
        "      return\n",
        "\n",
        "    def pop(self):\n",
        "      if self.isEmpty():\n",
        "        return None\n",
        "      else:\n",
        "        x = self.head.item\n",
        "        self.head = self.head.next\n",
        "        print(f\"the pop element is {x}\")\n",
        "\n",
        "    def isEmpty(self):\n",
        "      if self.head == None:\n",
        "        return True\n",
        "      else :\n",
        "        return False\n",
        "\n",
        "    def top(self):\n",
        "      if self.isEmpty():\n",
        "        return None\n",
        "      else:\n",
        "        return self.head.item\n",
        "\n",
        "    def display(self):\n",
        "      last_node = self.head\n",
        "      linklist=[]\n",
        "      while last_node is not None:\n",
        "        linklist.append(f\"{last_node.item} ->\")\n",
        "        last_node = last_node.next\n",
        "      print(*linklist[::-1],end=\"\")\n"
      ],
      "metadata": {
        "id": "_lgCmgHkIcBy"
      },
      "execution_count": null,
      "outputs": []
    },
    {
      "cell_type": "code",
      "source": [
        "my_stack = Stack()\n",
        "\n",
        "my_stack.push(1)\n",
        "my_stack.push(2)\n",
        "my_stack.push(3)\n",
        "my_stack.push(4)\n",
        "my_stack.push(5)\n",
        "my_stack.push(6)\n",
        "my_stack.push(7)\n",
        "\n",
        "my_stack.pop()\n",
        "my_stack.pop()\n",
        "\n",
        "my_stack.display()"
      ],
      "metadata": {
        "colab": {
          "base_uri": "https://localhost:8080/"
        },
        "id": "Lyb6N7489X-8",
        "outputId": "bcbbb92e-1856-42ab-a956-d12454d92e3e"
      },
      "execution_count": null,
      "outputs": [
        {
          "output_type": "stream",
          "name": "stdout",
          "text": [
            "the pop element is 7\n",
            "the pop element is 6\n",
            "1 -> 2 -> 3 -> 4 -> 5 ->"
          ]
        }
      ]
    },
    {
      "cell_type": "markdown",
      "source": [
        "### Doubly Linked List\n",
        "\n"
      ],
      "metadata": {
        "id": "xRzOurR2PaAW"
      }
    },
    {
      "cell_type": "markdown",
      "source": [
        "A doubly linked list is a type of linked list in which each node consists of 3 components:\n",
        "\n",
        "* prev - pointer to the previous node\n",
        "* data - data item\n",
        "* next - pointer to the next node\n",
        "\n",
        "![](https://www.programiz.com/sites/tutorial2program/files/doubly-linked-list-created.png)"
      ],
      "metadata": {
        "id": "05O3K7DRPgO-"
      }
    },
    {
      "cell_type": "markdown",
      "source": [
        "#### Basic Operations\n",
        "\n",
        "\n",
        "\n",
        "*   InsertAtBegining\n",
        "*   InsertAfter\n",
        "*   InsertAtEnd\n",
        "*   Search\n",
        "*   Display\n",
        "*   and all the other basis functions as in Linked List\n",
        "\n",
        "\n",
        "\n"
      ],
      "metadata": {
        "id": "Nbkc37T5RwSF"
      }
    },
    {
      "cell_type": "code",
      "source": [
        "class Node:\n",
        "    def __init__(self, item):\n",
        "        self.item = item\n",
        "        self.next = None\n",
        "        self.prev = None\n",
        "\n",
        "class DoublyLinkedList:\n",
        "    def __init__(self):\n",
        "        self.head = None\n",
        "\n",
        "    def insert_at_beginning(self, item):\n",
        "        if self.head == None:\n",
        "          self.head = Node(item)\n",
        "        else:\n",
        "          new_node = Node(item)\n",
        "          new_node.next = self.head\n",
        "          self.head.prev = new_node\n",
        "          self.head = new_node\n",
        "\n",
        "    def insert_after(self, index, item):\n",
        "         if self.head == None:\n",
        "          self.head = Node(item)\n",
        "         else:\n",
        "          counter = 0\n",
        "          current_node = self.head\n",
        "          while  current_node is not None and index != counter :\n",
        "            current_node = current_node.next\n",
        "            counter +=1\n",
        "          if current_node is None:\n",
        "            print(\"Index is out of the Range\")\n",
        "          else:\n",
        "            new_node = Node(item)\n",
        "            new_node.prev = current_node.prev\n",
        "            new_node.next = current_node\n",
        "            new_node.next = current_node\n",
        "            current_node.prev.next = new_node\n",
        "\n",
        "    def insert_at_end(self, item):\n",
        "        if self.head == None:\n",
        "          self.head = Node(item)\n",
        "        else:\n",
        "          current_node = self.head\n",
        "          while current_node.next is not None :\n",
        "            current_node = current_node.next\n",
        "\n",
        "          new_node = Node(item)\n",
        "          current_node.next = new_node\n",
        "          new_node.prev = current_node\n",
        "\n",
        "\n",
        "    def delete_item(self, key):\n",
        "        if self.head == None:\n",
        "          print(\"List is Empty\")\n",
        "        elif key == 0:\n",
        "          self.head = self.head.next\n",
        "          self.head.next.prev = None\n",
        "        else:\n",
        "          counter = 1\n",
        "          current_node = self.head\n",
        "          while current_node is not None and key != counter :\n",
        "            current_node = current_node.next\n",
        "            counter +=1\n",
        "          if current_node.next is None:\n",
        "            current_node.prev.next = None\n",
        "            #print(\"Index is out of the Range\")\n",
        "          else:\n",
        "            current_node.prev.next = current_node.next\n",
        "            if current_node.next is not None:\n",
        "                current_node.next.prev = current_node.prev\n",
        "            #current_node.next.prev = current_node.prev\n",
        "\n",
        "\n",
        "    def display(self):\n",
        "      last_node = self.head\n",
        "      linklist=[]\n",
        "      while last_node is not None:\n",
        "        linklist.append(f\"{last_node.item} <-->\")\n",
        "        last_node = last_node.next\n",
        "      print(\"\\n\\n\",*linklist,end=\"\")\n",
        "\n",
        "    def search(self, item):\n",
        "        if self.head == None:\n",
        "          print(\"List is Empty\")\n",
        "        else:\n",
        "          idx = 0\n",
        "          current_node = self.head\n",
        "          while current_node is not None and item != current_node.item:\n",
        "            current_node = current_node.next\n",
        "            idx +=1\n",
        "          if current_node is None:\n",
        "            return False\n",
        "          else:\n",
        "            return True\n",
        "\n",
        "    def get_length(self):\n",
        "        if self.head == None:\n",
        "          print(\"List is Empty\")\n",
        "        else:\n",
        "          size = 1\n",
        "          current_node = self.head\n",
        "          while current_node.next is not None:\n",
        "            current_node = current_node.next\n",
        "            size +=1\n",
        "\n",
        "          print(f\" \\n\\n List is of size: {size}\")\n",
        "\n",
        "    def access(self, index):\n",
        "      if self.head == None:\n",
        "          print(\"List is Empty\")\n",
        "      else:\n",
        "          idx = 0\n",
        "          current_node = self.head\n",
        "          while current_node is not None and idx != index:\n",
        "            current_node = current_node.next\n",
        "            idx +=1\n",
        "\n",
        "          if current_node is None:\n",
        "            print(\"\\n\\n Index is out of range\")\n",
        "          else:\n",
        "            print(f\" \\n\\n Element in this index is: {current_node.item}\")\n",
        "\n",
        "\n",
        "    def update(self, index, new_data):\n",
        "        if self.head == None:\n",
        "          print(\"List is Empty\")\n",
        "        else:\n",
        "            idx = 0\n",
        "            current_node = self.head\n",
        "            while current_node is not None and idx != index:\n",
        "              current_node = current_node.next\n",
        "              idx +=1\n",
        "\n",
        "            if current_node is None:\n",
        "              print(\"\\n\\n Index is out of range\")\n",
        "            else:\n",
        "              current_node.item = new_data\n",
        "\n"
      ],
      "metadata": {
        "id": "Jq7lAQeJPdLm"
      },
      "execution_count": null,
      "outputs": []
    },
    {
      "cell_type": "code",
      "source": [
        "d_linked_list = DoublyLinkedList()\n",
        "\n",
        "d_linked_list.insert_at_end(5)\n",
        "d_linked_list.display()\n",
        "d_linked_list.insert_at_beginning(1)\n",
        "d_linked_list.display()\n",
        "\n",
        "d_linked_list.insert_at_beginning(6)\n",
        "d_linked_list.display()\n",
        "\n",
        "d_linked_list.insert_at_end(9)\n",
        "d_linked_list.display()\n",
        "\n",
        "\n",
        "print(f\"\\n\\n 6 is inside the list : \", d_linked_list.search(6))\n",
        "\n",
        "# insert 11 after head\n",
        "d_linked_list.insert_after(1, 11)\n",
        "\n",
        "# insert 15 after the seond node\n",
        "d_linked_list.insert_after(2, 15)\n",
        "\n",
        "\n",
        "d_linked_list.display()\n",
        "\n",
        "#d_linked_list.delete_item(1)\n",
        "d_linked_list.display()"
      ],
      "metadata": {
        "colab": {
          "base_uri": "https://localhost:8080/"
        },
        "id": "5KWrGOKqPmEB",
        "outputId": "9a6425c6-e962-41f8-c123-6a122f3fb5f4"
      },
      "execution_count": null,
      "outputs": [
        {
          "output_type": "stream",
          "name": "stdout",
          "text": [
            "\n",
            "\n",
            " 5 <-->\n",
            "\n",
            " 1 <--> 5 <-->\n",
            "\n",
            " 6 <--> 1 <--> 5 <-->\n",
            "\n",
            " 6 <--> 1 <--> 5 <--> 9 <-->\n",
            "\n",
            " 6 is inside the list :  True\n",
            "\n",
            "\n",
            " 6 <--> 15 <--> 1 <--> 5 <--> 9 <-->\n",
            "\n",
            " 6 <--> 15 <--> 1 <--> 5 <--> 9 <-->"
          ]
        }
      ]
    },
    {
      "cell_type": "markdown",
      "source": [
        "#### Exercises"
      ],
      "metadata": {
        "id": "CQSaT6QkR0jU"
      }
    },
    {
      "cell_type": "markdown",
      "source": [
        "##### Exercise\n",
        "Write the function reverse to reverse a linked list\n",
        "\n",
        "Example:\n",
        "\n",
        "Input\n",
        "\n",
        "`my_list = 5 <-> 2 <-> 7 <-> 10 <-> 4 <-> 6 <-> 7 <-> `\n",
        "\n",
        "output\n",
        "\n",
        "`reverse_list = 7 <-> 6 <-> 4 <-> 10 <-> 7 <-> 2 <-> 5 <-> `"
      ],
      "metadata": {
        "id": "Fr71fjYcEG3n"
      }
    },
    {
      "cell_type": "markdown",
      "source": [
        "##### Exercise\n",
        "Implement Queue usind DoubleLinkedList"
      ],
      "metadata": {
        "id": "ZaB4BpYQERK8"
      }
    },
    {
      "cell_type": "code",
      "source": [
        "class Node:\n",
        "    def __init__(self, item):\n",
        "        self.item = item\n",
        "        self.next = None\n",
        "        self.prev = None\n",
        "\n",
        "class Queue(Node):\n",
        "    def __init__(self):\n",
        "        self.head = None\n",
        "\n",
        "    def enqueue(self, item):\n",
        "      if self.head is None:\n",
        "        self.head = Node(item)\n",
        "        self.last_node = self.head\n",
        "      else:\n",
        "        new_node = Node(item)\n",
        "        self.last_node.next = new_node\n",
        "        new_node.prev = self.last_node\n",
        "        self.last_node = new_node\n",
        "        return\n",
        "\n",
        "    def dequeue(self):\n",
        "        if self.head is None:\n",
        "            return None\n",
        "        else:\n",
        "            x = self.head.item\n",
        "            self.head = self.head.next\n",
        "            self.head.next.prev = None\n",
        "            print(f\"\\n\\nthe dequeued element is {x}\")\n",
        "\n",
        "    def isEmpty(self):\n",
        "      if self.head == 0:\n",
        "        return True\n",
        "      else:\n",
        "        return False\n",
        "\n",
        "    def display(self):\n",
        "      last_node = self.head\n",
        "      linklist=[]\n",
        "      while last_node is not None:\n",
        "        linklist.append(f\"{last_node.item} <-->\")\n",
        "        last_node = last_node.next\n",
        "      print(*linklist,end=\"\")\n"
      ],
      "metadata": {
        "id": "eXIzjpiqR3dp"
      },
      "execution_count": null,
      "outputs": []
    },
    {
      "cell_type": "code",
      "source": [
        "my_queue = Queue()\n",
        "\n",
        "my_queue.enqueue(1)\n",
        "my_queue.enqueue(2)\n",
        "my_queue.enqueue(3)\n",
        "my_queue.enqueue(4)\n",
        "my_queue.enqueue(5)\n",
        "my_queue.enqueue(6)\n",
        "my_queue.enqueue(7)\n",
        "my_queue.display()\n",
        "\n",
        "my_queue.dequeue()\n",
        "my_queue.display()\n",
        "\n",
        "my_queue.dequeue()\n",
        "my_queue.display()\n",
        "\n",
        "my_queue.isEmpty()"
      ],
      "metadata": {
        "colab": {
          "base_uri": "https://localhost:8080/"
        },
        "id": "FurHIJ9lY7aM",
        "outputId": "4bcdb84d-e407-4015-da88-dc3a6b02ccf4"
      },
      "execution_count": null,
      "outputs": [
        {
          "output_type": "stream",
          "name": "stdout",
          "text": [
            "1 <--> 2 <--> 3 <--> 4 <--> 5 <--> 6 <--> 7 <-->\n",
            "\n",
            "the dequeued element is 1\n",
            "2 <--> 3 <--> 4 <--> 5 <--> 6 <--> 7 <-->\n",
            "\n",
            "the dequeued element is 2\n",
            "3 <--> 4 <--> 5 <--> 6 <--> 7 <-->"
          ]
        },
        {
          "output_type": "execute_result",
          "data": {
            "text/plain": [
              "False"
            ]
          },
          "metadata": {},
          "execution_count": 63
        }
      ]
    },
    {
      "cell_type": "markdown",
      "source": [
        "### Binary Tree"
      ],
      "metadata": {
        "id": "bUCvbKXED0Nr"
      }
    },
    {
      "cell_type": "markdown",
      "source": [
        "Tree is a non linear hierarchical data structure where nodes are connected by edges. The binary tree is a tree data structure in which each node has at most two children, which are referred to as the left child and the right child.\n",
        "\n",
        "![](https://upload.wikimedia.org/wikipedia/commons/thumb/d/da/Binary_search_tree.svg/1200px-Binary_search_tree.svg.png)\n",
        "\n",
        "image credit: https://en.wikipedia.org/wiki/Binary_search_tree\n",
        "\n",
        "The topmost node is called root and the  bottommost nodes or the nodes with no children are called the leaf nodes. A node contains:\n",
        "\n",
        "* Data\n",
        "* Pointer to left child\n",
        "* Pointer to the right child\n",
        "\n",
        "\n"
      ],
      "metadata": {
        "id": "wxZQZTm-P8RL"
      }
    },
    {
      "cell_type": "markdown",
      "source": [
        "\n",
        "#### Basic Operations\n",
        "\n",
        "\n",
        "*   Inserting an element\n",
        "*   Searching for an element.\n",
        "*   Deletion for an element.\n",
        "*   Traversing an element.\n",
        "\n",
        "\n",
        "\n",
        "There are three ways to visite/traverse each node present in the tree exactly once\n",
        "\n",
        "\n",
        "*   Inorder: left subtree, root, right subtree\n",
        "*   Preorder: root, left subtree, right subtree\n",
        "*   Postorder: left subtree, right subtree, root"
      ],
      "metadata": {
        "id": "Lv-sd1jWTtXB"
      }
    },
    {
      "cell_type": "code",
      "source": [
        "class Node(object):\n",
        "  def __init__(self, data):\n",
        "    self.data = data\n",
        "    self.left = None\n",
        "    self.right = None\n",
        "\n",
        "\n",
        "class BinaryTree(object):\n",
        "\n",
        "  def __init__(self):\n",
        "    self.root = None\n",
        "\n",
        "  def addNode(self, data):\n",
        "    def recursive(current_node,data):\n",
        "      if data < current_node.data:\n",
        "        if current_node.left is None:\n",
        "          current_node.left = Node(data)\n",
        "        else:\n",
        "          recursive(current_node.left,data)\n",
        "      elif data > current_node.data:\n",
        "        if current_node.right is None:\n",
        "          current_node.right = Node(data)\n",
        "        else:\n",
        "           recursive(current_node.right,data)\n",
        "    if self.root is None:\n",
        "      self.root = Node(data)\n",
        "    else:\n",
        "      recursive(self.root,data)\n",
        "\n",
        "\n",
        "  def searchNode(self, data):\n",
        "    def recursive_search(current_node,data):\n",
        "      if current_node is None or current_node.data == data:\n",
        "        return str(data) + \" is present in the tree\"\n",
        "      elif data < current_node.data:\n",
        "        return recursive_search(current_node.left,data)\n",
        "      else:\n",
        "        return recursive_search(current_node.right,data)\n",
        "\n",
        "    if self.root is None or self.root.data == data:\n",
        "      return str(data) + \" is present in the tree\"\n",
        "    else:\n",
        "      return recursive_search(self.root,data)\n",
        "\n",
        "\n",
        "\n",
        "  def deleteNode(self, data):\n",
        "    def least_node(node):\n",
        "      current_node = node\n",
        "      while current_node.left is not None:\n",
        "        current_node = current_node.left\n",
        "      return current_node\n",
        "\n",
        "    def recursive_delete(current_node,data):\n",
        "      if current_node is None:\n",
        "        return current_node\n",
        "\n",
        "      elif data < current_node.data:\n",
        "        current_node.left = recursive_delete(current_node.left,data)\n",
        "      elif data > current_node.data:\n",
        "        current_node.right = recursive_delete(current_node.right,data)\n",
        "      else:\n",
        "        if current_node.left is None:\n",
        "          temp = current_node.right\n",
        "          del(current_node)\n",
        "          return temp\n",
        "        elif current_node.right is None:\n",
        "          temp = current_node.left\n",
        "          del(current_node)\n",
        "          return temp\n",
        "        smallest_node = least_node(current_node.right)\n",
        "        current_node.data = smallest_node.data\n",
        "        current_node.right = recursive_delete(current_node.right, smallest_node.data)\n",
        "      return current_node\n",
        "\n",
        "    self.root = recursive_delete(self.root,data)\n",
        "\n",
        "\n",
        "\n",
        "  def preorder(self, start, traversal):\n",
        "    '''Root --> Left --> Right'''\n",
        "    if start:\n",
        "      traversal += str(start.data) + \"-\"\n",
        "      traversal = self.preorder(start.left, traversal)\n",
        "      traversal = self.preorder(start.right, traversal)\n",
        "    return traversal\n",
        "\n",
        "  def inorder(self, start, traversal):\n",
        "    '''Left --> Root --> Rght'''\n",
        "    if start:\n",
        "      traversal = self.inorder(start.left, traversal)\n",
        "      traversal += str(start.data) + \"-\"\n",
        "      traversal = self.inorder(start.right, traversal)\n",
        "    return traversal\n",
        "\n",
        "  def postorder(self, start, traversal):\n",
        "    '''Left --> Right --> Root'''\n",
        "    if start:\n",
        "      traversal = self.postorder(start.left, traversal)\n",
        "      traversal = self.postorder(start.right, traversal)\n",
        "      traversal += str(start.data) + \"-\"\n",
        "\n",
        "    return traversal\n",
        "\n",
        "\n",
        "  def display(self,type):\n",
        "    if type == \"preorder\":\n",
        "      return self.preorder(self.root, \"\")\n",
        "\n",
        "    elif type == \"inorder\":\n",
        "      return self.inorder(self.root, \"\")\n",
        "\n",
        "    elif type == \"postorder\":\n",
        "      return self.postorder(self.root, \"\")\n",
        "    else:\n",
        "      return \" Traversal type not recognized\"\n"
      ],
      "metadata": {
        "id": "N0771w0tI07y"
      },
      "execution_count": null,
      "outputs": []
    },
    {
      "cell_type": "code",
      "source": [
        "tree = BinaryTree()\n",
        "tree.addNode(8)\n",
        "tree.addNode(10)\n",
        "tree.addNode(3)\n",
        "tree.addNode(1)\n",
        "tree.addNode(14)\n",
        "tree.addNode(13)\n",
        "tree.addNode(6)\n",
        "tree.addNode(7)\n",
        "tree.addNode(4)\n",
        "\n",
        "\n",
        "print(f\"Pre-order Traversal: {tree.display('preorder')}\\n\")\n",
        "print(f\"In-order Traversal: {tree.display('inorder')}\\n\")\n",
        "print(f\"Post-order Traversal: {tree.display('postorder')}\\n\")\n",
        "print(tree.searchNode(16))\n",
        "print(\"\\n\\n\")\n",
        "tree.deleteNode(6)\n",
        "print(tree.searchNode(4))\n",
        "print(f\"Pre-order Traversal: {tree.display('preorder')}\\n\")\n",
        "print(f\"In-order Traversal: {tree.display('inorder')}\\n\")\n",
        "print(f\"Post-order Traversal: {tree.display('postorder')}\\n\")"
      ],
      "metadata": {
        "colab": {
          "base_uri": "https://localhost:8080/"
        },
        "id": "7phbr--mjnRl",
        "outputId": "2b1708aa-c78e-49d7-e8ee-2654cd3d089c"
      },
      "execution_count": null,
      "outputs": [
        {
          "output_type": "stream",
          "name": "stdout",
          "text": [
            "Pre-order Traversal: 8-3-1-6-4-7-10-14-13-\n",
            "\n",
            "In-order Traversal: 1-3-4-6-7-8-10-13-14-\n",
            "\n",
            "Post-order Traversal: 1-4-7-6-3-13-14-10-8-\n",
            "\n",
            "16 is present in the tree\n",
            "\n",
            "\n",
            "\n",
            "4 is present in the tree\n",
            "Pre-order Traversal: 8-3-1-7-4-10-14-13-\n",
            "\n",
            "In-order Traversal: 1-3-4-7-8-10-13-14-\n",
            "\n",
            "Post-order Traversal: 1-4-7-3-13-14-10-8-\n",
            "\n"
          ]
        }
      ]
    },
    {
      "cell_type": "markdown",
      "source": [
        "#### Exercises"
      ],
      "metadata": {
        "id": "wUmwDdLrJErr"
      }
    },
    {
      "cell_type": "markdown",
      "source": [
        "##### Exercise\n",
        "\n",
        "Based on the previous class, write the function Inorder."
      ],
      "metadata": {
        "id": "j4V4pHWiJMAQ"
      }
    },
    {
      "cell_type": "code",
      "source": [
        "print(f\"In-order Traversal: {tree.display('inorder')}\")"
      ],
      "metadata": {
        "id": "LUGy5SxpIM6m",
        "colab": {
          "base_uri": "https://localhost:8080/"
        },
        "outputId": "dacdc146-ce48-47f9-ca5d-c74e31b2b4ff"
      },
      "execution_count": null,
      "outputs": [
        {
          "output_type": "stream",
          "name": "stdout",
          "text": [
            "In-order Traversal: 1-3-4-6-7-8-10-13-14-\n"
          ]
        }
      ]
    },
    {
      "cell_type": "markdown",
      "source": [
        "##### Exercise\n",
        "\n",
        "Based on the previous class, write the function Preorder."
      ],
      "metadata": {
        "id": "6ounE44_JgQ1"
      }
    },
    {
      "cell_type": "code",
      "source": [
        "print(f\"Pre-order Traversal: {tree.display('preorder')}\")"
      ],
      "metadata": {
        "id": "soY475x_JiQw",
        "colab": {
          "base_uri": "https://localhost:8080/"
        },
        "outputId": "1d374f8c-7ed8-4b69-c625-ba4f92a69a69"
      },
      "execution_count": null,
      "outputs": [
        {
          "output_type": "stream",
          "name": "stdout",
          "text": [
            "Pre-order Traversal: 8-3-1-6-4-7-10-14-13-\n"
          ]
        }
      ]
    },
    {
      "cell_type": "markdown",
      "source": [
        "##### Exercise\n",
        "\n",
        "Based on the previous class, write the function Postorder."
      ],
      "metadata": {
        "id": "vDrfoTS6Jnzc"
      }
    },
    {
      "cell_type": "code",
      "source": [
        "print(f\"Post-order Traversal: {tree.display('postorder')}\")"
      ],
      "metadata": {
        "id": "m2K3srAGJpli",
        "colab": {
          "base_uri": "https://localhost:8080/"
        },
        "outputId": "f1771661-c170-4c7d-c84e-54b87f7bfa3d"
      },
      "execution_count": null,
      "outputs": [
        {
          "output_type": "stream",
          "name": "stdout",
          "text": [
            "Post-order Traversal: 1-4-7-6-3-13-14-10-8-\n"
          ]
        }
      ]
    },
    {
      "cell_type": "code",
      "source": [],
      "metadata": {
        "id": "MZBGq9eFZtHA"
      },
      "execution_count": null,
      "outputs": []
    }
  ]
}